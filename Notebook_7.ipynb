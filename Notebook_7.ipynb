{
  "nbformat": 4,
  "nbformat_minor": 0,
  "metadata": {
    "colab": {
      "provenance": [],
      "include_colab_link": true
    },
    "language_info": {
      "codemirror_mode": {
        "name": "ipython",
        "version": 3
      },
      "file_extension": ".py",
      "mimetype": "text/x-python",
      "name": "python",
      "nbconvert_exporter": "python",
      "pygments_lexer": "ipython3",
      "version": "3.6.6"
    },
    "kernelspec": {
      "display_name": "Python 3",
      "language": "python",
      "name": "python3"
    }
  },
  "cells": [
    {
      "cell_type": "markdown",
      "metadata": {
        "id": "view-in-github",
        "colab_type": "text"
      },
      "source": [
        "<a href=\"https://colab.research.google.com/github/YamilaVSosa-LP/INGENIAS-Data-Science-/blob/main/Notebook_7.ipynb\" target=\"_parent\"><img src=\"https://colab.research.google.com/assets/colab-badge.svg\" alt=\"Open In Colab\"/></a>"
      ]
    },
    {
      "cell_type": "markdown",
      "metadata": {
        "id": "4CoLDDN0Scje"
      },
      "source": [
        "## Programa Ingenias+ Data Science"
      ]
    },
    {
      "cell_type": "markdown",
      "metadata": {
        "id": "Rkizi-vlScjg"
      },
      "source": [
        "## Trabajando con Pandas"
      ]
    },
    {
      "cell_type": "markdown",
      "metadata": {
        "id": "VRd6Ow_aScjg"
      },
      "source": [
        "1) Importa las librerias requeridas: `Pandas` y `NumPy`.  \n",
        "\n",
        "Una buena practica a la hora de escribir codigo es de comentar siempre que estoy haciendo (usando `#`) en la linea anterior. Por mas obvio que parezca lo que voy a hacer, puede ser que tenga que compartir el documento con otras personas y no sepan que quise hacer en cada linea. O que yo mismo lea el codigo tiempo despues y no recuerde porque lo hice."
      ]
    },
    {
      "cell_type": "code",
      "metadata": {
        "id": "Anvt8yoSScji"
      },
      "source": [
        "# Importe la librería Pandas\n",
        "import pandas as pd\n",
        "\n",
        "# Importe la librería NumPy\n",
        "import numpy as np"
      ],
      "execution_count": null,
      "outputs": []
    },
    {
      "cell_type": "markdown",
      "metadata": {
        "id": "5YWvHd--Scjl"
      },
      "source": [
        "2) Lee el archivo csv `life_expectancy_data` usando `pandas`. Guardalo en una variable llamada `expvida`."
      ]
    },
    {
      "cell_type": "code",
      "metadata": {
        "id": "oM1b7mmxScjm",
        "colab": {
          "base_uri": "https://localhost:8080/",
          "height": 308
        },
        "outputId": "4cec72be-592a-4e71-9cb0-581a5ee8a51a"
      },
      "source": [
        "# Leo los datos en un DataFrame\n",
        "\n",
        "import pandas as pd\n",
        "\n",
        "expvida = pd.read_csv('https://docs.google.com/spreadsheets/d/e/2PACX-1vSuWhbGlyr3RkvucQfnWUzap9DpdrjptQJtOtEwFh-BPj04VLbqKHSkVfxmS7jSKXzqgGWvh9jNmyEe/pub?gid=1087332157&single=true&output=csv')\n",
        "\n",
        "expvida.head()"
      ],
      "execution_count": 3,
      "outputs": [
        {
          "output_type": "execute_result",
          "data": {
            "text/plain": [
              "       Country  Year      Status  Life expectancy  Adult Mortality  \\\n",
              "0  Afghanistan  2015  Developing             65.0            263.0   \n",
              "1  Afghanistan  2014  Developing             59.9            271.0   \n",
              "2  Afghanistan  2013  Developing             59.9            268.0   \n",
              "3  Afghanistan  2012  Developing             59.5            272.0   \n",
              "4  Afghanistan  2011  Developing             59.2            275.0   \n",
              "\n",
              "   infant deaths  Alcohol percentage expenditure  Hepatitis B  Measles  ...  \\\n",
              "0             62     0.01          7.127.962.362         65.0     1154  ...   \n",
              "1             64     0.01          7.352.358.168         62.0      492  ...   \n",
              "2             66     0.01          7.321.924.272         64.0      430  ...   \n",
              "3             69     0.01            781.842.153         67.0     2787  ...   \n",
              "4             71     0.01          7.097.108.703         68.0     3013  ...   \n",
              "\n",
              "   Polio  Total expenditure  Diphtheria  HIV/AIDS          GDP  Population  \\\n",
              "0    6.0               8.16        65.0       0.1   58.425.921  33736494.0   \n",
              "1   58.0               8.18        62.0       0.1  612.696.514    327582.0   \n",
              "2   62.0               8.13        64.0       0.1  631.744.976  31731688.0   \n",
              "3   67.0               8.52        67.0       0.1      669.959   3696958.0   \n",
              "4   68.0               7.87        68.0       0.1   63.537.231   2978599.0   \n",
              "\n",
              "  thinness  1-19 years  thinness 5-9 years  Income composition of resources  \\\n",
              "0                 17.2                17.3                           479.00   \n",
              "1                 17.5                17.5                           476.00   \n",
              "2                 17.7                17.7                             0.47   \n",
              "3                 17.9                18.0                           463.00   \n",
              "4                 18.2                18.2                           454.00   \n",
              "\n",
              "   Schooling  \n",
              "0       10.1  \n",
              "1       10.0  \n",
              "2        9.9  \n",
              "3        9.8  \n",
              "4        9.5  \n",
              "\n",
              "[5 rows x 22 columns]"
            ],
            "text/html": [
              "\n",
              "  <div id=\"df-bbb31d11-a2df-47e5-b9cd-a7eec72ce0bd\" class=\"colab-df-container\">\n",
              "    <div>\n",
              "<style scoped>\n",
              "    .dataframe tbody tr th:only-of-type {\n",
              "        vertical-align: middle;\n",
              "    }\n",
              "\n",
              "    .dataframe tbody tr th {\n",
              "        vertical-align: top;\n",
              "    }\n",
              "\n",
              "    .dataframe thead th {\n",
              "        text-align: right;\n",
              "    }\n",
              "</style>\n",
              "<table border=\"1\" class=\"dataframe\">\n",
              "  <thead>\n",
              "    <tr style=\"text-align: right;\">\n",
              "      <th></th>\n",
              "      <th>Country</th>\n",
              "      <th>Year</th>\n",
              "      <th>Status</th>\n",
              "      <th>Life expectancy</th>\n",
              "      <th>Adult Mortality</th>\n",
              "      <th>infant deaths</th>\n",
              "      <th>Alcohol</th>\n",
              "      <th>percentage expenditure</th>\n",
              "      <th>Hepatitis B</th>\n",
              "      <th>Measles</th>\n",
              "      <th>...</th>\n",
              "      <th>Polio</th>\n",
              "      <th>Total expenditure</th>\n",
              "      <th>Diphtheria</th>\n",
              "      <th>HIV/AIDS</th>\n",
              "      <th>GDP</th>\n",
              "      <th>Population</th>\n",
              "      <th>thinness  1-19 years</th>\n",
              "      <th>thinness 5-9 years</th>\n",
              "      <th>Income composition of resources</th>\n",
              "      <th>Schooling</th>\n",
              "    </tr>\n",
              "  </thead>\n",
              "  <tbody>\n",
              "    <tr>\n",
              "      <th>0</th>\n",
              "      <td>Afghanistan</td>\n",
              "      <td>2015</td>\n",
              "      <td>Developing</td>\n",
              "      <td>65.0</td>\n",
              "      <td>263.0</td>\n",
              "      <td>62</td>\n",
              "      <td>0.01</td>\n",
              "      <td>7.127.962.362</td>\n",
              "      <td>65.0</td>\n",
              "      <td>1154</td>\n",
              "      <td>...</td>\n",
              "      <td>6.0</td>\n",
              "      <td>8.16</td>\n",
              "      <td>65.0</td>\n",
              "      <td>0.1</td>\n",
              "      <td>58.425.921</td>\n",
              "      <td>33736494.0</td>\n",
              "      <td>17.2</td>\n",
              "      <td>17.3</td>\n",
              "      <td>479.00</td>\n",
              "      <td>10.1</td>\n",
              "    </tr>\n",
              "    <tr>\n",
              "      <th>1</th>\n",
              "      <td>Afghanistan</td>\n",
              "      <td>2014</td>\n",
              "      <td>Developing</td>\n",
              "      <td>59.9</td>\n",
              "      <td>271.0</td>\n",
              "      <td>64</td>\n",
              "      <td>0.01</td>\n",
              "      <td>7.352.358.168</td>\n",
              "      <td>62.0</td>\n",
              "      <td>492</td>\n",
              "      <td>...</td>\n",
              "      <td>58.0</td>\n",
              "      <td>8.18</td>\n",
              "      <td>62.0</td>\n",
              "      <td>0.1</td>\n",
              "      <td>612.696.514</td>\n",
              "      <td>327582.0</td>\n",
              "      <td>17.5</td>\n",
              "      <td>17.5</td>\n",
              "      <td>476.00</td>\n",
              "      <td>10.0</td>\n",
              "    </tr>\n",
              "    <tr>\n",
              "      <th>2</th>\n",
              "      <td>Afghanistan</td>\n",
              "      <td>2013</td>\n",
              "      <td>Developing</td>\n",
              "      <td>59.9</td>\n",
              "      <td>268.0</td>\n",
              "      <td>66</td>\n",
              "      <td>0.01</td>\n",
              "      <td>7.321.924.272</td>\n",
              "      <td>64.0</td>\n",
              "      <td>430</td>\n",
              "      <td>...</td>\n",
              "      <td>62.0</td>\n",
              "      <td>8.13</td>\n",
              "      <td>64.0</td>\n",
              "      <td>0.1</td>\n",
              "      <td>631.744.976</td>\n",
              "      <td>31731688.0</td>\n",
              "      <td>17.7</td>\n",
              "      <td>17.7</td>\n",
              "      <td>0.47</td>\n",
              "      <td>9.9</td>\n",
              "    </tr>\n",
              "    <tr>\n",
              "      <th>3</th>\n",
              "      <td>Afghanistan</td>\n",
              "      <td>2012</td>\n",
              "      <td>Developing</td>\n",
              "      <td>59.5</td>\n",
              "      <td>272.0</td>\n",
              "      <td>69</td>\n",
              "      <td>0.01</td>\n",
              "      <td>781.842.153</td>\n",
              "      <td>67.0</td>\n",
              "      <td>2787</td>\n",
              "      <td>...</td>\n",
              "      <td>67.0</td>\n",
              "      <td>8.52</td>\n",
              "      <td>67.0</td>\n",
              "      <td>0.1</td>\n",
              "      <td>669.959</td>\n",
              "      <td>3696958.0</td>\n",
              "      <td>17.9</td>\n",
              "      <td>18.0</td>\n",
              "      <td>463.00</td>\n",
              "      <td>9.8</td>\n",
              "    </tr>\n",
              "    <tr>\n",
              "      <th>4</th>\n",
              "      <td>Afghanistan</td>\n",
              "      <td>2011</td>\n",
              "      <td>Developing</td>\n",
              "      <td>59.2</td>\n",
              "      <td>275.0</td>\n",
              "      <td>71</td>\n",
              "      <td>0.01</td>\n",
              "      <td>7.097.108.703</td>\n",
              "      <td>68.0</td>\n",
              "      <td>3013</td>\n",
              "      <td>...</td>\n",
              "      <td>68.0</td>\n",
              "      <td>7.87</td>\n",
              "      <td>68.0</td>\n",
              "      <td>0.1</td>\n",
              "      <td>63.537.231</td>\n",
              "      <td>2978599.0</td>\n",
              "      <td>18.2</td>\n",
              "      <td>18.2</td>\n",
              "      <td>454.00</td>\n",
              "      <td>9.5</td>\n",
              "    </tr>\n",
              "  </tbody>\n",
              "</table>\n",
              "<p>5 rows × 22 columns</p>\n",
              "</div>\n",
              "    <div class=\"colab-df-buttons\">\n",
              "\n",
              "  <div class=\"colab-df-container\">\n",
              "    <button class=\"colab-df-convert\" onclick=\"convertToInteractive('df-bbb31d11-a2df-47e5-b9cd-a7eec72ce0bd')\"\n",
              "            title=\"Convert this dataframe to an interactive table.\"\n",
              "            style=\"display:none;\">\n",
              "\n",
              "  <svg xmlns=\"http://www.w3.org/2000/svg\" height=\"24px\" viewBox=\"0 -960 960 960\">\n",
              "    <path d=\"M120-120v-720h720v720H120Zm60-500h600v-160H180v160Zm220 220h160v-160H400v160Zm0 220h160v-160H400v160ZM180-400h160v-160H180v160Zm440 0h160v-160H620v160ZM180-180h160v-160H180v160Zm440 0h160v-160H620v160Z\"/>\n",
              "  </svg>\n",
              "    </button>\n",
              "\n",
              "  <style>\n",
              "    .colab-df-container {\n",
              "      display:flex;\n",
              "      gap: 12px;\n",
              "    }\n",
              "\n",
              "    .colab-df-convert {\n",
              "      background-color: #E8F0FE;\n",
              "      border: none;\n",
              "      border-radius: 50%;\n",
              "      cursor: pointer;\n",
              "      display: none;\n",
              "      fill: #1967D2;\n",
              "      height: 32px;\n",
              "      padding: 0 0 0 0;\n",
              "      width: 32px;\n",
              "    }\n",
              "\n",
              "    .colab-df-convert:hover {\n",
              "      background-color: #E2EBFA;\n",
              "      box-shadow: 0px 1px 2px rgba(60, 64, 67, 0.3), 0px 1px 3px 1px rgba(60, 64, 67, 0.15);\n",
              "      fill: #174EA6;\n",
              "    }\n",
              "\n",
              "    .colab-df-buttons div {\n",
              "      margin-bottom: 4px;\n",
              "    }\n",
              "\n",
              "    [theme=dark] .colab-df-convert {\n",
              "      background-color: #3B4455;\n",
              "      fill: #D2E3FC;\n",
              "    }\n",
              "\n",
              "    [theme=dark] .colab-df-convert:hover {\n",
              "      background-color: #434B5C;\n",
              "      box-shadow: 0px 1px 3px 1px rgba(0, 0, 0, 0.15);\n",
              "      filter: drop-shadow(0px 1px 2px rgba(0, 0, 0, 0.3));\n",
              "      fill: #FFFFFF;\n",
              "    }\n",
              "  </style>\n",
              "\n",
              "    <script>\n",
              "      const buttonEl =\n",
              "        document.querySelector('#df-bbb31d11-a2df-47e5-b9cd-a7eec72ce0bd button.colab-df-convert');\n",
              "      buttonEl.style.display =\n",
              "        google.colab.kernel.accessAllowed ? 'block' : 'none';\n",
              "\n",
              "      async function convertToInteractive(key) {\n",
              "        const element = document.querySelector('#df-bbb31d11-a2df-47e5-b9cd-a7eec72ce0bd');\n",
              "        const dataTable =\n",
              "          await google.colab.kernel.invokeFunction('convertToInteractive',\n",
              "                                                    [key], {});\n",
              "        if (!dataTable) return;\n",
              "\n",
              "        const docLinkHtml = 'Like what you see? Visit the ' +\n",
              "          '<a target=\"_blank\" href=https://colab.research.google.com/notebooks/data_table.ipynb>data table notebook</a>'\n",
              "          + ' to learn more about interactive tables.';\n",
              "        element.innerHTML = '';\n",
              "        dataTable['output_type'] = 'display_data';\n",
              "        await google.colab.output.renderOutput(dataTable, element);\n",
              "        const docLink = document.createElement('div');\n",
              "        docLink.innerHTML = docLinkHtml;\n",
              "        element.appendChild(docLink);\n",
              "      }\n",
              "    </script>\n",
              "  </div>\n",
              "\n",
              "\n",
              "<div id=\"df-e46bbbb0-239f-4161-9179-af84b1221a64\">\n",
              "  <button class=\"colab-df-quickchart\" onclick=\"quickchart('df-e46bbbb0-239f-4161-9179-af84b1221a64')\"\n",
              "            title=\"Suggest charts\"\n",
              "            style=\"display:none;\">\n",
              "\n",
              "<svg xmlns=\"http://www.w3.org/2000/svg\" height=\"24px\"viewBox=\"0 0 24 24\"\n",
              "     width=\"24px\">\n",
              "    <g>\n",
              "        <path d=\"M19 3H5c-1.1 0-2 .9-2 2v14c0 1.1.9 2 2 2h14c1.1 0 2-.9 2-2V5c0-1.1-.9-2-2-2zM9 17H7v-7h2v7zm4 0h-2V7h2v10zm4 0h-2v-4h2v4z\"/>\n",
              "    </g>\n",
              "</svg>\n",
              "  </button>\n",
              "\n",
              "<style>\n",
              "  .colab-df-quickchart {\n",
              "      --bg-color: #E8F0FE;\n",
              "      --fill-color: #1967D2;\n",
              "      --hover-bg-color: #E2EBFA;\n",
              "      --hover-fill-color: #174EA6;\n",
              "      --disabled-fill-color: #AAA;\n",
              "      --disabled-bg-color: #DDD;\n",
              "  }\n",
              "\n",
              "  [theme=dark] .colab-df-quickchart {\n",
              "      --bg-color: #3B4455;\n",
              "      --fill-color: #D2E3FC;\n",
              "      --hover-bg-color: #434B5C;\n",
              "      --hover-fill-color: #FFFFFF;\n",
              "      --disabled-bg-color: #3B4455;\n",
              "      --disabled-fill-color: #666;\n",
              "  }\n",
              "\n",
              "  .colab-df-quickchart {\n",
              "    background-color: var(--bg-color);\n",
              "    border: none;\n",
              "    border-radius: 50%;\n",
              "    cursor: pointer;\n",
              "    display: none;\n",
              "    fill: var(--fill-color);\n",
              "    height: 32px;\n",
              "    padding: 0;\n",
              "    width: 32px;\n",
              "  }\n",
              "\n",
              "  .colab-df-quickchart:hover {\n",
              "    background-color: var(--hover-bg-color);\n",
              "    box-shadow: 0 1px 2px rgba(60, 64, 67, 0.3), 0 1px 3px 1px rgba(60, 64, 67, 0.15);\n",
              "    fill: var(--button-hover-fill-color);\n",
              "  }\n",
              "\n",
              "  .colab-df-quickchart-complete:disabled,\n",
              "  .colab-df-quickchart-complete:disabled:hover {\n",
              "    background-color: var(--disabled-bg-color);\n",
              "    fill: var(--disabled-fill-color);\n",
              "    box-shadow: none;\n",
              "  }\n",
              "\n",
              "  .colab-df-spinner {\n",
              "    border: 2px solid var(--fill-color);\n",
              "    border-color: transparent;\n",
              "    border-bottom-color: var(--fill-color);\n",
              "    animation:\n",
              "      spin 1s steps(1) infinite;\n",
              "  }\n",
              "\n",
              "  @keyframes spin {\n",
              "    0% {\n",
              "      border-color: transparent;\n",
              "      border-bottom-color: var(--fill-color);\n",
              "      border-left-color: var(--fill-color);\n",
              "    }\n",
              "    20% {\n",
              "      border-color: transparent;\n",
              "      border-left-color: var(--fill-color);\n",
              "      border-top-color: var(--fill-color);\n",
              "    }\n",
              "    30% {\n",
              "      border-color: transparent;\n",
              "      border-left-color: var(--fill-color);\n",
              "      border-top-color: var(--fill-color);\n",
              "      border-right-color: var(--fill-color);\n",
              "    }\n",
              "    40% {\n",
              "      border-color: transparent;\n",
              "      border-right-color: var(--fill-color);\n",
              "      border-top-color: var(--fill-color);\n",
              "    }\n",
              "    60% {\n",
              "      border-color: transparent;\n",
              "      border-right-color: var(--fill-color);\n",
              "    }\n",
              "    80% {\n",
              "      border-color: transparent;\n",
              "      border-right-color: var(--fill-color);\n",
              "      border-bottom-color: var(--fill-color);\n",
              "    }\n",
              "    90% {\n",
              "      border-color: transparent;\n",
              "      border-bottom-color: var(--fill-color);\n",
              "    }\n",
              "  }\n",
              "</style>\n",
              "\n",
              "  <script>\n",
              "    async function quickchart(key) {\n",
              "      const quickchartButtonEl =\n",
              "        document.querySelector('#' + key + ' button');\n",
              "      quickchartButtonEl.disabled = true;  // To prevent multiple clicks.\n",
              "      quickchartButtonEl.classList.add('colab-df-spinner');\n",
              "      try {\n",
              "        const charts = await google.colab.kernel.invokeFunction(\n",
              "            'suggestCharts', [key], {});\n",
              "      } catch (error) {\n",
              "        console.error('Error during call to suggestCharts:', error);\n",
              "      }\n",
              "      quickchartButtonEl.classList.remove('colab-df-spinner');\n",
              "      quickchartButtonEl.classList.add('colab-df-quickchart-complete');\n",
              "    }\n",
              "    (() => {\n",
              "      let quickchartButtonEl =\n",
              "        document.querySelector('#df-e46bbbb0-239f-4161-9179-af84b1221a64 button');\n",
              "      quickchartButtonEl.style.display =\n",
              "        google.colab.kernel.accessAllowed ? 'block' : 'none';\n",
              "    })();\n",
              "  </script>\n",
              "</div>\n",
              "\n",
              "    </div>\n",
              "  </div>\n"
            ],
            "application/vnd.google.colaboratory.intrinsic+json": {
              "type": "dataframe",
              "variable_name": "expvida"
            }
          },
          "metadata": {},
          "execution_count": 3
        }
      ]
    },
    {
      "cell_type": "markdown",
      "metadata": {
        "id": "-a1OoVvIScjp"
      },
      "source": [
        "3) ¿Que tipo de estructura de datos contiene la variable `expvida`?"
      ]
    },
    {
      "cell_type": "code",
      "metadata": {
        "id": "7R6g46UGScjp",
        "colab": {
          "base_uri": "https://localhost:8080/"
        },
        "outputId": "0f5506d9-d939-426b-9109-93396909b22e"
      },
      "source": [
        "# Obtengo el tipo de estructura de datos\n",
        "\n",
        "print(type(expvida))\n"
      ],
      "execution_count": 4,
      "outputs": [
        {
          "output_type": "stream",
          "name": "stdout",
          "text": [
            "<class 'pandas.core.frame.DataFrame'>\n"
          ]
        }
      ]
    },
    {
      "cell_type": "markdown",
      "metadata": {
        "id": "EBwmuoKKScjv"
      },
      "source": [
        "4) ¿Cuantas filas y columnas tiene `expvida`?"
      ]
    },
    {
      "cell_type": "code",
      "metadata": {
        "id": "1oKt4xZmScjw",
        "colab": {
          "base_uri": "https://localhost:8080/"
        },
        "outputId": "26815434-6bbc-4f6a-8c8a-5dead38d3621"
      },
      "source": [
        "# Uso .shape para obtener cantidad de filas y columnas\n",
        "\n",
        "num_filas, num_columnas = expvida.shape\n",
        "\n",
        "print(\"Número de filas:\", num_filas)\n",
        "print(\"Número de columnas:\", num_columnas)\n"
      ],
      "execution_count": 5,
      "outputs": [
        {
          "output_type": "stream",
          "name": "stdout",
          "text": [
            "Número de filas: 2938\n",
            "Número de columnas: 22\n"
          ]
        }
      ]
    },
    {
      "cell_type": "markdown",
      "metadata": {
        "id": "O-ICrkf6Scj0"
      },
      "source": [
        "**Numero de filas**:"
      ]
    },
    {
      "cell_type": "markdown",
      "metadata": {
        "id": "zXyS8xzFScj0"
      },
      "source": [
        "**Numero de columnas**:"
      ]
    },
    {
      "cell_type": "markdown",
      "metadata": {
        "id": "V3cNAjIIScj1"
      },
      "source": [
        "5) ¿Cual es el nombre de las columnas contenidas en `expvida`?"
      ]
    },
    {
      "cell_type": "code",
      "metadata": {
        "id": "Cr61t2ALScj2",
        "colab": {
          "base_uri": "https://localhost:8080/"
        },
        "outputId": "4df8fc79-33f4-4da1-cde8-498160233a97"
      },
      "source": [
        "# Obtengo el nombre de las columnas\n",
        "\n",
        "columnas_expvida = expvida.columns\n",
        "print(columnas_expvida)\n"
      ],
      "execution_count": 7,
      "outputs": [
        {
          "output_type": "stream",
          "name": "stdout",
          "text": [
            "Index(['Country', 'Year', 'Status', 'Life expectancy', 'Adult Mortality',\n",
            "       'infant deaths', 'Alcohol', 'percentage expenditure', 'Hepatitis B',\n",
            "       'Measles', 'BMI', 'under-five deaths', 'Polio', 'Total expenditure',\n",
            "       'Diphtheria', 'HIV/AIDS', 'GDP', 'Population', 'thinness  1-19 years',\n",
            "       'thinness 5-9 years', 'Income composition of resources', 'Schooling'],\n",
            "      dtype='object')\n"
          ]
        }
      ]
    },
    {
      "cell_type": "markdown",
      "metadata": {
        "id": "xbXCaw0mScj5"
      },
      "source": [
        "6) Inspecciona las primeras 10 filas de `expvida`"
      ]
    },
    {
      "cell_type": "code",
      "metadata": {
        "id": "WSUs6-wmScj6",
        "colab": {
          "base_uri": "https://localhost:8080/"
        },
        "outputId": "69cfb8f1-df5d-46bf-8362-d5425dcb6ad3"
      },
      "source": [
        "# Inspecciono las primeras filas\n",
        "\n",
        "primeras_10_filas = expvida.head(10)\n",
        "print(primeras_10_filas)"
      ],
      "execution_count": 8,
      "outputs": [
        {
          "output_type": "stream",
          "name": "stdout",
          "text": [
            "       Country  Year      Status  Life expectancy  Adult Mortality  \\\n",
            "0  Afghanistan  2015  Developing             65.0            263.0   \n",
            "1  Afghanistan  2014  Developing             59.9            271.0   \n",
            "2  Afghanistan  2013  Developing             59.9            268.0   \n",
            "3  Afghanistan  2012  Developing             59.5            272.0   \n",
            "4  Afghanistan  2011  Developing             59.2            275.0   \n",
            "5  Afghanistan  2010  Developing             58.8            279.0   \n",
            "6  Afghanistan  2009  Developing             58.6            281.0   \n",
            "7  Afghanistan  2008  Developing             58.1            287.0   \n",
            "8  Afghanistan  2007  Developing             57.5            295.0   \n",
            "9  Afghanistan  2006  Developing             57.3            295.0   \n",
            "\n",
            "   infant deaths  Alcohol percentage expenditure  Hepatitis B  Measles  ...  \\\n",
            "0             62     0.01          7.127.962.362         65.0     1154  ...   \n",
            "1             64     0.01          7.352.358.168         62.0      492  ...   \n",
            "2             66     0.01          7.321.924.272         64.0      430  ...   \n",
            "3             69     0.01            781.842.153         67.0     2787  ...   \n",
            "4             71     0.01          7.097.108.703         68.0     3013  ...   \n",
            "5             74     0.01          7.967.936.736         66.0     1989  ...   \n",
            "6             77     0.01          5.676.221.682         63.0     2861  ...   \n",
            "7             80     0.03          2.587.392.536         64.0     1599  ...   \n",
            "8             82     0.02          1.091.015.598         63.0     1141  ...   \n",
            "9             84     0.03          1.717.151.751         64.0     1990  ...   \n",
            "\n",
            "   Polio  Total expenditure  Diphtheria  HIV/AIDS            GDP  Population  \\\n",
            "0    6.0               8.16        65.0       0.1     58.425.921  33736494.0   \n",
            "1   58.0               8.18        62.0       0.1    612.696.514    327582.0   \n",
            "2   62.0               8.13        64.0       0.1    631.744.976  31731688.0   \n",
            "3   67.0               8.52        67.0       0.1        669.959   3696958.0   \n",
            "4   68.0               7.87        68.0       0.1     63.537.231   2978599.0   \n",
            "5   66.0               9.20        66.0       0.1     55.332.894   2883167.0   \n",
            "6   63.0               9.42        63.0       0.1  4.458.932.979    284331.0   \n",
            "7   64.0               8.33        64.0       0.1  3.733.611.163   2729431.0   \n",
            "8   63.0               6.73        63.0       0.1    369.835.796  26616792.0   \n",
            "9   58.0               7.43        58.0       0.1     27.256.377   2589345.0   \n",
            "\n",
            "  thinness  1-19 years  thinness 5-9 years  Income composition of resources  \\\n",
            "0                 17.2                17.3                           479.00   \n",
            "1                 17.5                17.5                           476.00   \n",
            "2                 17.7                17.7                             0.47   \n",
            "3                 17.9                18.0                           463.00   \n",
            "4                 18.2                18.2                           454.00   \n",
            "5                 18.4                18.4                           448.00   \n",
            "6                 18.6                18.7                           434.00   \n",
            "7                 18.8                18.9                           433.00   \n",
            "8                 19.0                19.1                           415.00   \n",
            "9                 19.2                19.3                           405.00   \n",
            "\n",
            "   Schooling  \n",
            "0       10.1  \n",
            "1       10.0  \n",
            "2        9.9  \n",
            "3        9.8  \n",
            "4        9.5  \n",
            "5        9.2  \n",
            "6        8.9  \n",
            "7        8.7  \n",
            "8        8.4  \n",
            "9        8.1  \n",
            "\n",
            "[10 rows x 22 columns]\n"
          ]
        }
      ]
    },
    {
      "cell_type": "markdown",
      "metadata": {
        "id": "99b7sMhZScj_"
      },
      "source": [
        "7) Y ahora las 10 ultimas."
      ]
    },
    {
      "cell_type": "code",
      "metadata": {
        "id": "yaMMoHc7Scj_",
        "colab": {
          "base_uri": "https://localhost:8080/"
        },
        "outputId": "65c62e85-6a2c-48e9-bc8f-a1086f10bcd1"
      },
      "source": [
        "# Inspecciono las ultimas filas\n",
        "\n",
        "ultimas_10_filas = expvida.tail(10)\n",
        "print(ultimas_10_filas)"
      ],
      "execution_count": 9,
      "outputs": [
        {
          "output_type": "stream",
          "name": "stdout",
          "text": [
            "       Country  Year      Status  Life expectancy  Adult Mortality  \\\n",
            "2928  Zimbabwe  2009  Developing             50.0            587.0   \n",
            "2929  Zimbabwe  2008  Developing             48.2            632.0   \n",
            "2930  Zimbabwe  2007  Developing             46.6             67.0   \n",
            "2931  Zimbabwe  2006  Developing             45.4              7.0   \n",
            "2932  Zimbabwe  2005  Developing             44.6            717.0   \n",
            "2933  Zimbabwe  2004  Developing             44.3            723.0   \n",
            "2934  Zimbabwe  2003  Developing             44.5            715.0   \n",
            "2935  Zimbabwe  2002  Developing             44.8             73.0   \n",
            "2936  Zimbabwe  2001  Developing             45.3            686.0   \n",
            "2937  Zimbabwe  2000  Developing             46.0            665.0   \n",
            "\n",
            "      infant deaths  Alcohol percentage expenditure  Hepatitis B  Measles  \\\n",
            "2928             30     4.64          1.040.021.112         73.0      853   \n",
            "2929             30     3.56          2.084.342.867         75.0        0   \n",
            "2930             29     3.88          2.981.456.607         72.0      242   \n",
            "2931             28     4.57          3.426.216.876         68.0      212   \n",
            "2932             28     4.14             87.174.087         65.0      420   \n",
            "2933             27     4.36                      0         68.0       31   \n",
            "2934             26     4.06                      0          7.0      998   \n",
            "2935             25     4.43                      0         73.0      304   \n",
            "2936             25     1.72                      0         76.0      529   \n",
            "2937             24     1.68                      0         79.0     1483   \n",
            "\n",
            "      ...  Polio  Total expenditure  Diphtheria  HIV/AIDS            GDP  \\\n",
            "2928  ...   69.0               6.26        73.0      18.1     65.824.121   \n",
            "2929  ...   75.0               4.96        75.0      20.5    325.678.573   \n",
            "2930  ...   73.0               4.47        73.0      23.7  3.969.982.166   \n",
            "2931  ...   71.0               5.12         7.0      26.8    414.796.232   \n",
            "2932  ...   69.0               6.44        68.0      30.3     44.476.575   \n",
            "2933  ...   67.0               7.13        65.0      33.6    454.366.654   \n",
            "2934  ...    7.0               6.52        68.0      36.7  4.533.511.552   \n",
            "2935  ...   73.0               6.53        71.0      39.8      5.734.834   \n",
            "2936  ...   76.0               6.16        75.0      42.1    548.587.312   \n",
            "2937  ...   78.0               7.10        78.0      43.5  5.473.588.785   \n",
            "\n",
            "      Population thinness  1-19 years  thinness 5-9 years  \\\n",
            "2928   1381599.0                  7.5                 7.4   \n",
            "2929  13558469.0                  7.8                 7.8   \n",
            "2930   1332999.0                  8.2                 8.2   \n",
            "2931  13124267.0                  8.6                 8.6   \n",
            "2932    129432.0                  9.0                 9.0   \n",
            "2933  12777511.0                  9.4                 9.4   \n",
            "2934  12633897.0                  9.8                 9.9   \n",
            "2935    125525.0                  1.2                 1.3   \n",
            "2936  12366165.0                  1.6                 1.7   \n",
            "2937  12222251.0                 11.0                11.2   \n",
            "\n",
            "      Income composition of resources  Schooling  \n",
            "2928                            419.0        9.9  \n",
            "2929                            421.0        9.7  \n",
            "2930                            414.0        9.6  \n",
            "2931                            408.0        9.5  \n",
            "2932                            406.0        9.3  \n",
            "2933                            407.0        9.2  \n",
            "2934                            418.0        9.5  \n",
            "2935                            427.0       10.0  \n",
            "2936                            427.0        9.8  \n",
            "2937                            434.0        9.8  \n",
            "\n",
            "[10 rows x 22 columns]\n"
          ]
        }
      ]
    },
    {
      "cell_type": "markdown",
      "metadata": {
        "id": "thLRW3GjSckC"
      },
      "source": [
        "8) ¿Que tipos de datos contiene cada una de las columnas de `expvida`?"
      ]
    },
    {
      "cell_type": "code",
      "metadata": {
        "id": "AfAgFAJdSckD",
        "colab": {
          "base_uri": "https://localhost:8080/"
        },
        "outputId": "5301e172-b999-4bd8-93c1-c432f2403862"
      },
      "source": [
        "# Tipo de datos en cada columna\n",
        "\n",
        "tipos_de_datos = expvida.dtypes\n",
        "print(tipos_de_datos)\n"
      ],
      "execution_count": 10,
      "outputs": [
        {
          "output_type": "stream",
          "name": "stdout",
          "text": [
            "Country                             object\n",
            "Year                                 int64\n",
            "Status                              object\n",
            "Life expectancy                    float64\n",
            "Adult Mortality                    float64\n",
            "infant deaths                        int64\n",
            "Alcohol                            float64\n",
            "percentage expenditure              object\n",
            "Hepatitis B                        float64\n",
            "Measles                              int64\n",
            "BMI                                float64\n",
            "under-five deaths                    int64\n",
            "Polio                              float64\n",
            "Total expenditure                  float64\n",
            "Diphtheria                         float64\n",
            "HIV/AIDS                           float64\n",
            "GDP                                 object\n",
            "Population                         float64\n",
            "thinness  1-19 years               float64\n",
            "thinness 5-9 years                 float64\n",
            "Income composition of resources    float64\n",
            "Schooling                          float64\n",
            "dtype: object\n"
          ]
        }
      ]
    },
    {
      "cell_type": "markdown",
      "metadata": {
        "id": "7Nsyhb7LSckG"
      },
      "source": [
        "9) ¿Hay valores faltantes en alguna de las columnas de `expvida`?"
      ]
    },
    {
      "cell_type": "code",
      "metadata": {
        "id": "DP_IgUWzSckI",
        "colab": {
          "base_uri": "https://localhost:8080/"
        },
        "outputId": "ec8aa339-55bf-4e68-9f0b-cfba30f94521"
      },
      "source": [
        "# Obtengo la cantidad de datos faltantes en cada columna\n",
        "\n",
        "valores_faltantes = expvida.isnull().any()\n",
        "print(valores_faltantes)\n"
      ],
      "execution_count": 11,
      "outputs": [
        {
          "output_type": "stream",
          "name": "stdout",
          "text": [
            "Country                            False\n",
            "Year                               False\n",
            "Status                             False\n",
            "Life expectancy                     True\n",
            "Adult Mortality                     True\n",
            "infant deaths                      False\n",
            "Alcohol                             True\n",
            "percentage expenditure             False\n",
            "Hepatitis B                         True\n",
            "Measles                            False\n",
            "BMI                                 True\n",
            "under-five deaths                  False\n",
            "Polio                               True\n",
            "Total expenditure                   True\n",
            "Diphtheria                          True\n",
            "HIV/AIDS                           False\n",
            "GDP                                 True\n",
            "Population                          True\n",
            "thinness  1-19 years                True\n",
            "thinness 5-9 years                  True\n",
            "Income composition of resources     True\n",
            "Schooling                           True\n",
            "dtype: bool\n"
          ]
        }
      ]
    },
    {
      "cell_type": "markdown",
      "metadata": {
        "id": "Q7-bL4tlSckL"
      },
      "source": [
        "10) Selecciona el maximo de datos faltantes. Calcula que porcentaje de los datos representan los datos faltantes."
      ]
    },
    {
      "cell_type": "code",
      "metadata": {
        "id": "gicdHYh0SckM",
        "colab": {
          "base_uri": "https://localhost:8080/"
        },
        "outputId": "e8080a61-bd57-420d-f03c-bb11f4fa3dfa"
      },
      "source": [
        "# Obtengo el maximo valor de datos faltantes y lo guardo en la variable masnan\n",
        "\n",
        "max_datos_faltantes = valores_faltantes.max()\n",
        "\n",
        "porcentaje_datos_faltantes = (max_datos_faltantes / len(expvida)) * 100\n",
        "\n",
        "print(\"El máximo de datos faltantes es:\", max_datos_faltantes)\n",
        "print(\"El porcentaje de los datos que representan los datos faltantes es:\", porcentaje_datos_faltantes)\n",
        "\n"
      ],
      "execution_count": 12,
      "outputs": [
        {
          "output_type": "stream",
          "name": "stdout",
          "text": [
            "El máximo de datos faltantes es: True\n",
            "El porcentaje de los datos que representan los datos faltantes es: 0.03403675970047651\n"
          ]
        }
      ]
    },
    {
      "cell_type": "code",
      "metadata": {
        "id": "Y58Hh90pSckP"
      },
      "source": [],
      "execution_count": null,
      "outputs": []
    },
    {
      "cell_type": "code",
      "metadata": {
        "id": "RuRgzIFBSckT",
        "colab": {
          "base_uri": "https://localhost:8080/"
        },
        "outputId": "03328888-b8ee-4244-cef5-4324d2aa3849"
      },
      "source": [
        "# Obtengo la cantidad de filas total y divido el maximo valor de datos faltantes por este numero\n",
        "# y lo multiplico por 100\n",
        "\n",
        "cantidad_filas_total = len(expvida)\n",
        "\n",
        "porcentaje_datos_faltantes_total = (max_datos_faltantes / cantidad_filas_total) * 100\n",
        "\n",
        "print(\"El porcentaje de los datos que representan los datos faltantes es:\", porcentaje_datos_faltantes_total)\n"
      ],
      "execution_count": 13,
      "outputs": [
        {
          "output_type": "stream",
          "name": "stdout",
          "text": [
            "El porcentaje de los datos que representan los datos faltantes es: 0.03403675970047651\n"
          ]
        }
      ]
    },
    {
      "cell_type": "code",
      "metadata": {
        "id": "1NIY9qQBSckX",
        "colab": {
          "base_uri": "https://localhost:8080/"
        },
        "outputId": "10f7b745-f297-4efa-dc25-02387fdfdaba"
      },
      "source": [
        "# Imprimo el maximo porcentaje de datos faltantes. Uso f-strings.\n",
        "\n",
        "print(f\"El máximo porcentaje de datos faltantes es: {porcentaje_datos_faltantes_total:.2f}%\")\n"
      ],
      "execution_count": 14,
      "outputs": [
        {
          "output_type": "stream",
          "name": "stdout",
          "text": [
            "El máximo porcentaje de datos faltantes es: 0.03%\n"
          ]
        }
      ]
    },
    {
      "cell_type": "markdown",
      "metadata": {
        "id": "r0ukORx9Sckg"
      },
      "source": [
        "- str.format()\n",
        "- Template Class\n",
        "- f-strings"
      ]
    },
    {
      "cell_type": "markdown",
      "metadata": {
        "id": "hUXqdma_Sckj"
      },
      "source": [
        "#### Ahora vamos a realizar algunos calculos y manipulaciones sobre las columnas."
      ]
    },
    {
      "cell_type": "markdown",
      "metadata": {
        "id": "eBzg8GYGSckk"
      },
      "source": [
        "Una función útil para este fin es: `.rename()`. Y podemos utilizarla de la siguiente manera: Si `df` es mi DataFrame y quiero renombrar la columna `columna` como `columna1`, y la columna `columna2` como `columna3`, utilizo la siguiente sintaxis:\n",
        "  \n",
        "`df.rename(columns={\"columna\": \"columna1\", \"columna2\": \"columna3\"}, inplace=True)`"
      ]
    },
    {
      "cell_type": "markdown",
      "metadata": {
        "id": "EYINiSHdSckl"
      },
      "source": [
        "11) Renombra la columna 'Life expectancy ' como 'life_expectancy', ' BMI ' como 'bmi' y ''Measles ' como 'measles'. No olvides de usar `inplace` para modificar el DataFrame original. Luego chequea que el cambio se haya hecho correctamente."
      ]
    },
    {
      "cell_type": "code",
      "metadata": {
        "id": "TL4b2ueXSckm",
        "colab": {
          "base_uri": "https://localhost:8080/"
        },
        "outputId": "17c13a48-98cd-438c-be09-a1cd23e284e5"
      },
      "source": [
        "# Renombro columnas del DataFrame\n",
        "\n",
        "expvida.rename(columns={'Life expectancy ': 'life_expectancy', ' BMI ': 'bmi', ' Measles ': 'measles'}, inplace=True)\n",
        "\n",
        "print(expvida.head())\n",
        "\n"
      ],
      "execution_count": 18,
      "outputs": [
        {
          "output_type": "stream",
          "name": "stdout",
          "text": [
            "       Country  Year      Status  Life expectancy  Adult Mortality  \\\n",
            "0  Afghanistan  2015  Developing             65.0            263.0   \n",
            "1  Afghanistan  2014  Developing             59.9            271.0   \n",
            "2  Afghanistan  2013  Developing             59.9            268.0   \n",
            "3  Afghanistan  2012  Developing             59.5            272.0   \n",
            "4  Afghanistan  2011  Developing             59.2            275.0   \n",
            "\n",
            "   infant deaths  Alcohol percentage expenditure  Hepatitis B  Measles  ...  \\\n",
            "0             62     0.01          7.127.962.362         65.0     1154  ...   \n",
            "1             64     0.01          7.352.358.168         62.0      492  ...   \n",
            "2             66     0.01          7.321.924.272         64.0      430  ...   \n",
            "3             69     0.01            781.842.153         67.0     2787  ...   \n",
            "4             71     0.01          7.097.108.703         68.0     3013  ...   \n",
            "\n",
            "   Polio  Total expenditure  Diphtheria  HIV/AIDS          GDP  Population  \\\n",
            "0    6.0               8.16        65.0       0.1   58.425.921  33736494.0   \n",
            "1   58.0               8.18        62.0       0.1  612.696.514    327582.0   \n",
            "2   62.0               8.13        64.0       0.1  631.744.976  31731688.0   \n",
            "3   67.0               8.52        67.0       0.1      669.959   3696958.0   \n",
            "4   68.0               7.87        68.0       0.1   63.537.231   2978599.0   \n",
            "\n",
            "  thinness  1-19 years  thinness 5-9 years  Income composition of resources  \\\n",
            "0                 17.2                17.3                           479.00   \n",
            "1                 17.5                17.5                           476.00   \n",
            "2                 17.7                17.7                             0.47   \n",
            "3                 17.9                18.0                           463.00   \n",
            "4                 18.2                18.2                           454.00   \n",
            "\n",
            "   Schooling  \n",
            "0       10.1  \n",
            "1       10.0  \n",
            "2        9.9  \n",
            "3        9.8  \n",
            "4        9.5  \n",
            "\n",
            "[5 rows x 22 columns]\n"
          ]
        }
      ]
    },
    {
      "cell_type": "code",
      "metadata": {
        "id": "r1RVoERMSckp",
        "colab": {
          "base_uri": "https://localhost:8080/"
        },
        "outputId": "a9c6f073-1067-48c2-bd78-311de9b3c9ba"
      },
      "source": [
        "# Chequeo que se hayan reemplazado correctamente\n",
        "\n",
        "print(expvida.columns)\n"
      ],
      "execution_count": 19,
      "outputs": [
        {
          "output_type": "stream",
          "name": "stdout",
          "text": [
            "Index(['Country', 'Year', 'Status', 'Life expectancy', 'Adult Mortality',\n",
            "       'infant deaths', 'Alcohol', 'percentage expenditure', 'Hepatitis B',\n",
            "       'Measles', 'BMI', 'under-five deaths', 'Polio', 'Total expenditure',\n",
            "       'Diphtheria', 'HIV/AIDS', 'GDP', 'Population', 'thinness  1-19 years',\n",
            "       'thinness 5-9 years', 'Income composition of resources', 'Schooling'],\n",
            "      dtype='object')\n"
          ]
        }
      ]
    },
    {
      "cell_type": "markdown",
      "metadata": {
        "id": "cNXpOsdiScks"
      },
      "source": [
        "12) ¿Cual es el promedio de expectativa de vida (Life expectancy) en general?"
      ]
    },
    {
      "cell_type": "code",
      "metadata": {
        "id": "OYv3yiXmSckt",
        "colab": {
          "base_uri": "https://localhost:8080/"
        },
        "outputId": "a43005ff-22cd-482f-c2a3-51105cd372a6"
      },
      "source": [
        "# Obtengo el promedio de la columna\n",
        "\n",
        "promedio_expectativa_vida = expvida['Life expectancy'].mean()\n",
        "\n",
        "print(\"El promedio de expectativa de vida en general es:\", promedio_expectativa_vida)\n",
        "\n"
      ],
      "execution_count": 20,
      "outputs": [
        {
          "output_type": "stream",
          "name": "stdout",
          "text": [
            "El promedio de expectativa de vida en general es: 69.22493169398908\n"
          ]
        }
      ]
    },
    {
      "cell_type": "markdown",
      "metadata": {
        "id": "A-bzQhFqSckw"
      },
      "source": [
        "13) ¿Cual es el promedio de expectativa de vida (Life expectancy) por país?"
      ]
    },
    {
      "cell_type": "code",
      "metadata": {
        "id": "eWN_AJPMSckx",
        "colab": {
          "base_uri": "https://localhost:8080/"
        },
        "outputId": "d22a657f-c4fc-4344-b321-158191d208e0"
      },
      "source": [
        "# Obtengo el promedio por pais\n",
        "\n",
        "promedio_expectativa_vida_por_pais = expvida.groupby('Country')['Life expectancy'].mean()\n",
        "\n",
        "print(promedio_expectativa_vida_por_pais)"
      ],
      "execution_count": 21,
      "outputs": [
        {
          "output_type": "stream",
          "name": "stdout",
          "text": [
            "Country\n",
            "Afghanistan                           58.19375\n",
            "Albania                               75.15625\n",
            "Algeria                               73.61875\n",
            "Angola                                49.01875\n",
            "Antigua and Barbuda                   75.05625\n",
            "                                        ...   \n",
            "Venezuela (Bolivarian Republic of)    73.38750\n",
            "Viet Nam                              74.77500\n",
            "Yemen                                 63.86250\n",
            "Zambia                                53.90625\n",
            "Zimbabwe                              50.48750\n",
            "Name: Life expectancy, Length: 193, dtype: float64\n"
          ]
        }
      ]
    },
    {
      "cell_type": "markdown",
      "metadata": {
        "id": "YIopZIPrSck0"
      },
      "source": [
        "14) ¿Cual es la expectativa de vida mas alta y mas baja? Usa la funcion de pandas y la funcion de NumPy y compara el resultado. ¿Que paises tienen esas expectativas de vida?"
      ]
    },
    {
      "cell_type": "code",
      "metadata": {
        "id": "gU8js5J8Sck0",
        "colab": {
          "base_uri": "https://localhost:8080/"
        },
        "outputId": "0eb1c0cd-79c7-49c8-a977-b9612fc53e2a"
      },
      "source": [
        "# Maxima expectativa de vida usando numpy\n",
        "\n",
        "import numpy as np\n",
        "\n",
        "idx_max_expectativa_vida_numpy = np.argmax(expvida['Life expectancy'])\n",
        "\n",
        "max_expectativa_vida_numpy = np.max(expvida['Life expectancy'])\n",
        "\n",
        "pais_max_expectativa_vida_numpy = expvida.loc[idx_max_expectativa_vida_numpy]['Country']\n",
        "\n",
        "print(\"Máxima expectativa de vida usando NumPy:\", max_expectativa_vida_numpy)\n",
        "print(\"País con la máxima expectativa de vida usando NumPy:\", pais_max_expectativa_vida_numpy)\n"
      ],
      "execution_count": 26,
      "outputs": [
        {
          "output_type": "stream",
          "name": "stdout",
          "text": [
            "Máxima expectativa de vida usando NumPy: 89.0\n",
            "País con la máxima expectativa de vida usando NumPy: Belgium\n"
          ]
        }
      ]
    },
    {
      "cell_type": "code",
      "metadata": {
        "id": "_JyNdRuESck2",
        "colab": {
          "base_uri": "https://localhost:8080/"
        },
        "outputId": "570138a7-65c4-417f-e89a-2c12b9c502e0"
      },
      "source": [
        "# Maxima expectativa de vida usando pandas\n",
        "\n",
        "idx_max_expectativa_vida_pandas = expvida['Life expectancy'].idxmax()\n",
        "\n",
        "max_expectativa_vida_pandas = expvida['Life expectancy'].max()\n",
        "\n",
        "pais_max_expectativa_vida_pandas = expvida.loc[idx_max_expectativa_vida_pandas]['Country']\n",
        "\n",
        "print(\"Máxima expectativa de vida usando Pandas:\", max_expectativa_vida_pandas)\n",
        "print(\"País con la máxima expectativa de vida usando Pandas:\", pais_max_expectativa_vida_pandas)"
      ],
      "execution_count": 27,
      "outputs": [
        {
          "output_type": "stream",
          "name": "stdout",
          "text": [
            "Máxima expectativa de vida usando Pandas: 89.0\n",
            "País con la máxima expectativa de vida usando Pandas: Belgium\n"
          ]
        }
      ]
    },
    {
      "cell_type": "code",
      "metadata": {
        "id": "pTCZ9VJXSck4",
        "colab": {
          "base_uri": "https://localhost:8080/"
        },
        "outputId": "50f4f76d-056c-471b-dcd3-d9cb314db78b"
      },
      "source": [
        "# Minima expectativa de vida usando numpy\n",
        "\n",
        "import numpy as np\n",
        "\n",
        "idx_min_expectativa_vida_numpy = np.argmin(expvida['Life expectancy'])\n",
        "\n",
        "min_expectativa_vida_numpy = np.min(expvida['Life expectancy'])\n",
        "\n",
        "pais_min_expectativa_vida_numpy = expvida.loc[idx_min_expectativa_vida_numpy]['Country']\n",
        "\n",
        "print(\"Mínima expectativa de vida usando NumPy:\", min_expectativa_vida_numpy)\n",
        "print(\"País con la mínima expectativa de vida usando NumPy:\", pais_min_expectativa_vida_numpy)\n"
      ],
      "execution_count": 28,
      "outputs": [
        {
          "output_type": "stream",
          "name": "stdout",
          "text": [
            "Mínima expectativa de vida usando NumPy: 36.3\n",
            "País con la mínima expectativa de vida usando NumPy: Haiti\n"
          ]
        }
      ]
    },
    {
      "cell_type": "code",
      "metadata": {
        "id": "BbJ9nW_LSck6",
        "colab": {
          "base_uri": "https://localhost:8080/"
        },
        "outputId": "6bda1c98-67be-40a4-8f67-79045ded4f99"
      },
      "source": [
        "# Minima expectativa de vida usando pandas\n",
        "\n",
        "idx_min_expectativa_vida_pandas = expvida['Life expectancy'].idxmin()\n",
        "\n",
        "min_expectativa_vida_pandas = expvida['Life expectancy'].min()\n",
        "\n",
        "pais_min_expectativa_vida_pandas = expvida.loc[idx_min_expectativa_vida_pandas]['Country']\n",
        "\n",
        "print(\"Mínima expectativa de vida usando Pandas:\", min_expectativa_vida_pandas)\n",
        "print(\"País con la mínima expectativa de vida usando Pandas:\", pais_min_expectativa_vida_pandas)\n"
      ],
      "execution_count": 29,
      "outputs": [
        {
          "output_type": "stream",
          "name": "stdout",
          "text": [
            "Mínima expectativa de vida usando Pandas: 36.3\n",
            "País con la mínima expectativa de vida usando Pandas: Haiti\n"
          ]
        }
      ]
    },
    {
      "cell_type": "code",
      "metadata": {
        "id": "R83PS8f8Sck8",
        "colab": {
          "base_uri": "https://localhost:8080/"
        },
        "outputId": "ee95eae6-768e-4ccf-be98-3c4b6908d5bf"
      },
      "source": [
        "# Muestro los resultados maximos\n",
        "\n",
        "print(\"Máxima expectativa de vida usando NumPy:\", max_expectativa_vida_numpy)\n",
        "print(\"País con la máxima expectativa de vida usando NumPy:\", pais_max_expectativa_vida_numpy)\n",
        "print(\"Máxima expectativa de vida usando Pandas:\", max_expectativa_vida_pandas)\n",
        "print(\"País con la máxima expectativa de vida usando Pandas:\", pais_max_expectativa_vida_pandas)"
      ],
      "execution_count": 30,
      "outputs": [
        {
          "output_type": "stream",
          "name": "stdout",
          "text": [
            "Máxima expectativa de vida usando NumPy: 89.0\n",
            "País con la máxima expectativa de vida usando NumPy: Belgium\n",
            "Máxima expectativa de vida usando Pandas: 89.0\n",
            "País con la máxima expectativa de vida usando Pandas: Belgium\n"
          ]
        }
      ]
    },
    {
      "cell_type": "code",
      "metadata": {
        "id": "jUZlYu3BSck_",
        "colab": {
          "base_uri": "https://localhost:8080/"
        },
        "outputId": "ba82ff92-472f-4077-f339-a791a3ff4873"
      },
      "source": [
        "# Muestro los resultados minimos\n",
        "\n",
        "print(\"Mínima expectativa de vida usando NumPy:\", min_expectativa_vida_numpy)\n",
        "print(\"País con la mínima expectativa de vida usando NumPy:\", pais_min_expectativa_vida_numpy)\n",
        "print(\"Mínima expectativa de vida usando Pandas:\", min_expectativa_vida_pandas)\n",
        "print(\"País con la mínima expectativa de vida usando Pandas:\", pais_min_expectativa_vida_pandas)\n"
      ],
      "execution_count": 31,
      "outputs": [
        {
          "output_type": "stream",
          "name": "stdout",
          "text": [
            "Mínima expectativa de vida usando NumPy: 36.3\n",
            "País con la mínima expectativa de vida usando NumPy: Haiti\n",
            "Mínima expectativa de vida usando Pandas: 36.3\n",
            "País con la mínima expectativa de vida usando Pandas: Haiti\n"
          ]
        }
      ]
    },
    {
      "cell_type": "code",
      "metadata": {
        "id": "et_RZ44GSclB",
        "colab": {
          "base_uri": "https://localhost:8080/"
        },
        "outputId": "abb97326-23b0-4fc9-d3b6-a51e44b821c0"
      },
      "source": [
        "# Filtro las columnas para mostrar solo las filas que tengan valor\n",
        "# igual al maximo\n",
        "\n",
        "filas_max_expectativa_vida = expvida.loc[expvida['Life expectancy'] == max_expectativa_vida_pandas]\n",
        "\n",
        "print(\"Filas con valor igual al máximo de la expectativa de vida:\")\n",
        "print(filas_max_expectativa_vida)"
      ],
      "execution_count": 32,
      "outputs": [
        {
          "output_type": "stream",
          "name": "stdout",
          "text": [
            "Filas con valor igual al máximo de la expectativa de vida:\n",
            "          Country  Year      Status  Life expectancy  Adult Mortality  \\\n",
            "241       Belgium  2014   Developed             89.0             76.0   \n",
            "915       Finland  2014  Developing             89.0             78.0   \n",
            "937        France  2008  Developing             89.0             88.0   \n",
            "938        France  2007  Developing             89.0             89.0   \n",
            "995       Germany  2014   Developed             89.0             69.0   \n",
            "1293        Italy  2004   Developed             89.0             66.0   \n",
            "1850  New Zealand  2010   Developed             89.0             71.0   \n",
            "1916       Norway  2009   Developed             89.0             67.0   \n",
            "2056     Portugal  2014   Developed             89.0             78.0   \n",
            "2433        Spain  2007   Developed             89.0             72.0   \n",
            "2513       Sweden  2007   Developed             89.0             63.0   \n",
            "\n",
            "      infant deaths  Alcohol percentage expenditure  Hepatitis B  Measles  \\\n",
            "241               0    12.60          7.163.348.923         98.0       70   \n",
            "915               0     8.80          6.164.455.402          NaN        0   \n",
            "937               3    11.90          7.002.785.925         47.0      604   \n",
            "938               3    12.20          6.473.714.894         42.0       39   \n",
            "995               2    11.03          9.417.562.909         88.0      443   \n",
            "1293              2     8.98          4.270.914.882         96.0      599   \n",
            "1850              0     9.62          6.664.148.708          9.0       43   \n",
            "1916              0     6.68          1.423.749.426          NaN        2   \n",
            "2056              0     9.88          2.712.545.531         98.0        0   \n",
            "2433              2    11.05          5.109.327.012         96.0      267   \n",
            "2513              0     6.90          7.593.391.622          NaN        1   \n",
            "\n",
            "      ...  Polio  Total expenditure  Diphtheria  HIV/AIDS            GDP  \\\n",
            "241   ...   99.0               1.59        99.0       0.1  4.743.939.684   \n",
            "915   ...   98.0               9.68        98.0       0.1  4.991.461.864   \n",
            "937   ...   98.0               1.57        98.0       0.1    454.136.571   \n",
            "938   ...   99.0               1.45        98.0       0.1     41.658.397   \n",
            "995   ...   94.0              11.30        95.0       0.1    479.265.288   \n",
            "1293  ...   97.0               8.49        94.0       0.1  3.117.456.118   \n",
            "1850  ...   93.0              11.20        93.0       0.1  3.369.134.837   \n",
            "1916  ...   94.0               9.49        94.0       0.1     81.777.681   \n",
            "2056  ...   98.0               9.50        98.0       0.1    227.753.613   \n",
            "2433  ...   96.0               8.36        96.0       0.1      3.279.414   \n",
            "2513  ...   98.0               8.92        98.0       0.1  5.332.437.937   \n",
            "\n",
            "      Population thinness  1-19 years  thinness 5-9 years  \\\n",
            "241     112957.0                  1.0                 1.0   \n",
            "915    5461512.0                  0.9                 0.8   \n",
            "937    6437499.0                  0.6                 0.6   \n",
            "938    6416229.0                  0.6                 0.6   \n",
            "995      89825.0                  1.1                 1.1   \n",
            "1293  57685327.0                  0.5                 0.5   \n",
            "1850         NaN                  0.3                 0.3   \n",
            "1916   4828726.0                  0.7                 0.7   \n",
            "2056     14162.0                  0.7                 0.5   \n",
            "2433   4522683.0                  0.6                 0.5   \n",
            "2513    914892.0                  1.3                 1.3   \n",
            "\n",
            "      Income composition of resources  Schooling  \n",
            "241                              0.89       16.3  \n",
            "915                              0.89       17.0  \n",
            "937                            877.00       16.1  \n",
            "938                            873.00       16.1  \n",
            "995                              0.92       17.0  \n",
            "1293                           846.00       15.6  \n",
            "1850                           899.00       20.3  \n",
            "1916                           936.00       17.4  \n",
            "2056                           837.00       16.8  \n",
            "2433                           849.00       16.0  \n",
            "2513                           895.00       15.8  \n",
            "\n",
            "[11 rows x 22 columns]\n"
          ]
        }
      ]
    },
    {
      "cell_type": "code",
      "metadata": {
        "id": "IQnm1-44SclE",
        "colab": {
          "base_uri": "https://localhost:8080/"
        },
        "outputId": "6b39352d-e5ca-448a-d644-03990b8e119f"
      },
      "source": [
        "# Filtro las columnas para mostrar solo las filas que tengan valor\n",
        "# igual al minimo\n",
        "\n",
        "filas_min_expectativa_vida = expvida.loc[expvida['Life expectancy'] == min_expectativa_vida_pandas]\n",
        "\n",
        "print(\"Filas con valor igual al mínimo de la expectativa de vida:\")\n",
        "print(filas_min_expectativa_vida)\n"
      ],
      "execution_count": 33,
      "outputs": [
        {
          "output_type": "stream",
          "name": "stdout",
          "text": [
            "Filas con valor igual al mínimo de la expectativa de vida:\n",
            "     Country  Year      Status  Life expectancy  Adult Mortality  \\\n",
            "1127   Haiti  2010  Developing             36.3            682.0   \n",
            "\n",
            "      infant deaths  Alcohol percentage expenditure  Hepatitis B  Measles  \\\n",
            "1127             23     5.76            362.929.176          NaN        0   \n",
            "\n",
            "      ...  Polio  Total expenditure  Diphtheria  HIV/AIDS            GDP  \\\n",
            "1127  ...   66.0                8.9        66.0       1.9  6.622.795.182   \n",
            "\n",
            "      Population thinness  1-19 years  thinness 5-9 years  \\\n",
            "1127   9999617.0                  4.0                 4.0   \n",
            "\n",
            "      Income composition of resources  Schooling  \n",
            "1127                             0.47        8.6  \n",
            "\n",
            "[1 rows x 22 columns]\n"
          ]
        }
      ]
    },
    {
      "cell_type": "markdown",
      "metadata": {
        "id": "mk_q0UUdSclq"
      },
      "source": [
        "15) ¿Cuantas categorias encontramos en la columna \"Status\"? _**Pista**_: Lee acerca de la función [unique()](http://pandas.pydata.org/pandas-docs/stable/reference/api/pandas.Series.unique.html?highlight=unique#pandas.Series.unique)"
      ]
    },
    {
      "cell_type": "code",
      "metadata": {
        "id": "HA2tDgWVSclq",
        "colab": {
          "base_uri": "https://localhost:8080/"
        },
        "outputId": "adb42144-b39e-4dc6-d938-d0c4e6fcf9a0"
      },
      "source": [
        "# Obtengo los valores unicos de la columna status\n",
        "\n",
        "categorias_status = expvida['Status'].unique()\n",
        "\n",
        "# Cuento el número de categorías únicas\n",
        "num_categorias_status = len(categorias_status)\n",
        "\n",
        "print(\"Número de categorías encontradas en la columna 'Status':\", num_categorias_status)\n"
      ],
      "execution_count": 34,
      "outputs": [
        {
          "output_type": "stream",
          "name": "stdout",
          "text": [
            "Número de categorías encontradas en la columna 'Status': 2\n"
          ]
        }
      ]
    },
    {
      "cell_type": "markdown",
      "source": [],
      "metadata": {
        "id": "WiIxLWFOIVWS"
      }
    },
    {
      "cell_type": "markdown",
      "metadata": {
        "id": "ps0WfRElSclu"
      },
      "source": [
        "16) ¿Cuantos paises se ubican en cada una de esas categorias de \"Status\"? _**Pista**_: Lee acerca de la función [value_counts()](http://pandas.pydata.org/pandas-docs/stable/reference/api/pandas.Series.value_counts.html)"
      ]
    },
    {
      "cell_type": "code",
      "metadata": {
        "id": "a8zkd7TTSclw",
        "colab": {
          "base_uri": "https://localhost:8080/"
        },
        "outputId": "d0d5cd3a-1b2f-4055-e673-c4b148993919"
      },
      "source": [
        "# Cuento cuantos valores hay de cada categoria\n",
        "\n",
        "# Cuento cuántos países se ubican en cada categoría de \"Status\"\n",
        "conteo_paises_por_status = expvida['Status'].value_counts()\n",
        "\n",
        "print(\"Número de países por categoría de 'Status':\")\n",
        "print(conteo_paises_por_status)\n",
        "\n",
        "# Cuento cuántos valores hay de cada categoría en la columna \"Status\"\n",
        "conteo_por_categoria = expvida['Status'].value_counts()\n",
        "\n",
        "print(\"Número de valores por categoría en la columna 'Status':\")\n",
        "print(conteo_por_categoria)"
      ],
      "execution_count": 36,
      "outputs": [
        {
          "output_type": "stream",
          "name": "stdout",
          "text": [
            "Número de países por categoría de 'Status':\n",
            "Status\n",
            "Developing    2426\n",
            "Developed      512\n",
            "Name: count, dtype: int64\n",
            "Número de valores por categoría en la columna 'Status':\n",
            "Status\n",
            "Developing    2426\n",
            "Developed      512\n",
            "Name: count, dtype: int64\n"
          ]
        }
      ]
    },
    {
      "cell_type": "markdown",
      "metadata": {
        "id": "IFvTsLnQSclz"
      },
      "source": [
        "18) ¿Cuantos paises presentaron algun caso de Sarampion (**Measles**) en el 2015? **_Pista_**: Lee acerca de la función [.count()](http://pandas.pydata.org/pandas-docs/stable/reference/api/pandas.DataFrame.count.html?highlight=count#pandas.DataFrame.count)"
      ]
    },
    {
      "cell_type": "code",
      "metadata": {
        "id": "qOyyukGmSclz",
        "colab": {
          "base_uri": "https://localhost:8080/"
        },
        "outputId": "fcc7a64c-7713-4a7c-e65e-bb8ee575637a"
      },
      "source": [
        "# Cuento cuantas filas tienen valores distintos de cero\n",
        "\n",
        "# Filtro las filas correspondientes al año 2015\n",
        "casos_sarampion_2015 = expvida[expvida['Year'] == 2015]\n",
        "\n",
        "# Cuento cuántos países presentaron algún caso de sarampión en el 2015\n",
        "num_paises_sarampion_2015 = (casos_sarampion_2015['Measles'] != 0).sum()\n",
        "\n",
        "print(\"Número de países que presentaron algún caso de sarampión en el 2015:\", num_paises_sarampion_2015)\n",
        "\n",
        "\n",
        "# Cuento cuántas filas tienen valores distintos de cero en la columna \"Measles\"\n",
        "num_filas_sarampion_2015 = (casos_sarampion_2015['Measles'] != 0).sum()\n",
        "\n",
        "print(\"Número de filas con valores distintos de cero en la columna 'Measles' para el 2015:\", num_filas_sarampion_2015)\n"
      ],
      "execution_count": 38,
      "outputs": [
        {
          "output_type": "stream",
          "name": "stdout",
          "text": [
            "Número de países que presentaron algún caso de sarampión en el 2015: 121\n",
            "Número de filas con valores distintos de cero en la columna 'Measles' para el 2015: 121\n"
          ]
        }
      ]
    },
    {
      "cell_type": "code",
      "metadata": {
        "id": "aFaOi_mmScl2"
      },
      "source": [],
      "execution_count": null,
      "outputs": []
    }
  ]
}